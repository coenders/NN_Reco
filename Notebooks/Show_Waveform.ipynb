{
 "cells": [
  {
   "cell_type": "code",
   "execution_count": 1,
   "metadata": {
    "collapsed": false
   },
   "outputs": [
    {
     "name": "stderr",
     "output_type": "stream",
     "text": [
      "/cvmfs/icecube.opensciencegrid.org/py2-v2/RHEL_6_x86_64/lib/python2.7/site-packages/matplotlib/__init__.py:1318: UserWarning:  This call to matplotlib.use() has no effect\n",
      "because the backend has already been chosen;\n",
      "matplotlib.use() must be called *before* pylab, matplotlib.pyplot,\n",
      "or matplotlib.backends is imported for the first time.\n",
      "\n",
      "  warnings.warn(_use_error_msg)\n",
      "/cvmfs/icecube.opensciencegrid.org/py2-v2/RHEL_6_x86_64/lib/python2.7/site-packages/matplotlib/__init__.py:855: UserWarning: text.fontsize is deprecated and replaced with font.size; please use the latter.\n",
      "  warnings.warn(self.msg_depr % (key, alt_key))\n"
     ]
    }
   ],
   "source": [
    "%matplotlib inline\n",
    "import tables\n",
    "import os\n",
    "import numpy as np\n",
    "from icecube import dataio, dataclasses\n",
    "from plot_conf import * ### Only my personal plotting settings...you can comment these lines if you want\n",
    "import matplotlib.pyplot as plt"
   ]
  },
  {
   "cell_type": "code",
   "execution_count": 2,
   "metadata": {
    "collapsed": false
   },
   "outputs": [
    {
     "name": "stdout",
     "output_type": "stream",
     "text": [
      "['Final_v2_nugen_numu_IC86.2012.011069.000001.i3.bz2', 'Calibrated_Waveform.i3.bz2']\n"
     ]
    }
   ],
   "source": [
    "#folder='/data/ana/PointSource/PS/IC86_2012/files/sim/2012/neutrino-generator/11069/00000-00999/'\n",
    "folder = './mc_data/'\n",
    "filelist = os.listdir(folder)\n",
    "filelist =[ i for i in filelist if i[-6:]=='i3.bz2']\n",
    "print filelist\n",
    "raw_file = dataio.I3File(os.path.join(folder, filelist[1]))"
   ]
  },
  {
   "cell_type": "code",
   "execution_count": 9,
   "metadata": {
    "collapsed": false
   },
   "outputs": [
    {
     "name": "stdout",
     "output_type": "stream",
     "text": [
      " Energy of Lepton (Track) : 265.91 TeV\n"
     ]
    }
   ],
   "source": [
    "cur=raw_file.pop_physics()\n",
    "DOM_launches = cur['InIceRawData']\n",
    "Calib_Waveform = cur['CalibratedWaveforms']\n",
    "Lepton = cur['MCMostEnergeticTrack']\n",
    "InIcePulses = cur['InIceDSTPulses'].apply(cur)\n",
    "print(' Energy of Lepton (Track) : {:.2f} TeV'.format(Lepton.energy/1e3))"
   ]
  },
  {
   "cell_type": "code",
   "execution_count": 35,
   "metadata": {
    "collapsed": false
   },
   "outputs": [
    {
     "name": "stdout",
     "output_type": "stream",
     "text": [
      "Overall 418 DOM launches recorded with charge 387.700000614 PE \n",
      " -----------------------\n",
      "Saved to Pulse_Dist_265_91.pdf\n"
     ]
    },
    {
     "data": {
      "text/plain": [
       "<matplotlib.figure.Figure at 0x7fe9af1f6fd0>"
      ]
     },
     "metadata": {},
     "output_type": "display_data"
    },
    {
     "data": {
      "image/png": "[encoded data removed]",
      "text/plain": [
       "<matplotlib.figure.Figure at 0x7fe9ab977710>"
      ]
     },
     "metadata": {},
     "output_type": "display_data"
    }
   ],
   "source": [
    "time=[]\n",
    "charge=[]\n",
    "atwd=dict()\n",
    "fadc = dict()\n",
    "atwd_calib = dict()\n",
    "fadc_calib = dict()\n",
    "DOM = []\n",
    "for i, key in enumerate(DOM_launches.keys()):\n",
    "    x=DOM_launches[key][0]\n",
    "    DOM.append(key)\n",
    "    atwd[key] = x.raw_atwd\n",
    "    fadc[key] = x.raw_fadc\n",
    "    for j in range(len(Calib_Waveform[key])):\n",
    "        if str(Calib_Waveform[key][j].source) == 'ATWD':\n",
    "            atwd_calib[key] = Calib_Waveform[key][j]\n",
    "        if str(Calib_Waveform[key][j].source) == 'FADC':\n",
    "            fadc_calib[key] = Calib_Waveform[key][j]\n",
    "    time.append(InIcePulses[key][0].time)\n",
    "    charge.append(InIcePulses[key][0].charge)\n",
    "time = np.array(time) - np.min(time)\n",
    "\n",
    "print('Overall {} DOM launches recorded with charge {} PE \\n -----------------------'.format(len(time), np.sum(charge)))\n",
    "### Overall collected charge as a function of time #####\n",
    "fig, ax = newfig(0.9)\n",
    "ax.hist(time, weights=charge, bins=50)\n",
    "ax.set_xlabel('Time/ns')\n",
    "ax.set_ylabel('Charge/PE')\n",
    "plt.text(ax.get_xticks()[-3], ax.get_yticks()[-4], 'DOM Launches: {}\\n QTot: {:.2f} PE \\n Muon Energy {:.2f} TeV'.format(len(time), np.sum(charge),Lepton.energy/1e3))\n",
    "saveto='Pulse_Dist_{}.pdf'.format(str(round(Lepton.energy/1e3, 2)).replace('.','_'))\n",
    "plt.savefig(saveto)\n",
    "print('Saved to {}'.format(saveto))\n",
    "plt.show()"
   ]
  },
  {
   "cell_type": "code",
   "execution_count": 26,
   "metadata": {
    "collapsed": false
   },
   "outputs": [],
   "source": [
    "# DOM Launches\n",
    "time_order = np.argsort(time)\n",
    "# for launch in time_order:\n",
    "#     print('DOM {} launched at {} ns'.format(DOM[launch], time[launch]))"
   ]
  },
  {
   "cell_type": "code",
   "execution_count": 38,
   "metadata": {
    "collapsed": false
   },
   "outputs": [
    {
     "data": {
      "text/plain": [
       "<matplotlib.figure.Figure at 0x7fe9ac030d50>"
      ]
     },
     "metadata": {},
     "output_type": "display_data"
    },
    {
     "data": {
      "image/png": "[encoded data removed]",
      "text/plain": [
       "<matplotlib.figure.Figure at 0x7fe9acc5a750>"
      ]
     },
     "metadata": {},
     "output_type": "display_data"
    }
   ],
   "source": [
    "### Charge of one DOM #####\n",
    "\n",
    "fig, ax = newfig(0.9)\n",
    "for i in [10]: #range(len(time_order)):\n",
    "    DOM_id = time_order[i]\n",
    "    omkey = DOM[DOM_id]\n",
    "    #print('Waveform for DOM {}'.format(omkey))\n",
    "\n",
    "    ###rates from https://arxiv.org/abs/1612.05093\n",
    "    rate_atwd = 10./3.\n",
    "    rate_fadc = 100./4.\n",
    "\n",
    "    plt.plot(np.arange(len(atwd[omkey][0]))*rate_atwd, atwd[omkey][0], color = 'red', label = 'ATWD')\n",
    "    plt.plot(np.arange(len(fadc[omkey]))*rate_fadc, fadc[omkey], color = 'blue' , label = 'fADC')\n",
    "\n",
    "\n",
    "plt.legend(loc='best')\n",
    "plt.grid(True)\n",
    "ax.set_xlabel(r'Time/ns')\n",
    "ax.set_ylabel(r'Hits')\n",
    "ax.set_xscale('log')\n",
    "plt.savefig('Waveform_1DOM.pdf')\n",
    "plt.show()"
   ]
  },
  {
   "cell_type": "code",
   "execution_count": 37,
   "metadata": {
    "collapsed": false
   },
   "outputs": [
    {
     "data": {
      "text/plain": [
       "<matplotlib.figure.Figure at 0x7fe9acaf21d0>"
      ]
     },
     "metadata": {},
     "output_type": "display_data"
    },
    {
     "data": {
      "image/png": "[encoded data removed]",
      "text/plain": [
       "<matplotlib.figure.Figure at 0x7fe9abc89410>"
      ]
     },
     "metadata": {},
     "output_type": "display_data"
    }
   ],
   "source": [
    "### Charge of one DOM #####\n",
    "\n",
    "fig, ax = newfig(0.9)\n",
    "for i in [10]: #range(len(time_order)):\n",
    "    DOM_id = time_order[i]\n",
    "    omkey = DOM[DOM_id]\n",
    "    #print('Waveform for DOM {}'.format(omkey))\n",
    "\n",
    "    ###rates from https://arxiv.org/abs/1612.05093\n",
    "    rate_atwd = 10./3.\n",
    "    rate_fadc = 100./4.\n",
    "\n",
    "    plt.plot(np.arange(len(atwd_calib[omkey].waveform))*rate_atwd, atwd_calib[omkey].waveform, color = 'red', label = 'ATWD')\n",
    "    plt.plot(np.arange(len(fadc_calib[omkey].waveform))*rate_fadc, fadc_calib[omkey].waveform, color = 'blue' , label = 'fADC')\n",
    "\n",
    "\n",
    "plt.legend(loc='best')\n",
    "plt.grid(True)\n",
    "ax.set_xlabel(r'Time/ns')\n",
    "ax.set_ylabel(r'Voltage/mV')\n",
    "ax.set_xscale('log')\n",
    "plt.savefig('Waveform_1DOM_calib.pdf')\n",
    "plt.show()"
   ]
  },
  {
   "cell_type": "code",
   "execution_count": 12,
   "metadata": {
    "collapsed": false
   },
   "outputs": [],
   "source": [
    "keys=Calib_Waveform.keys()"
   ]
  },
  {
   "cell_type": "code",
   "execution_count": 13,
   "metadata": {
    "collapsed": false
   },
   "outputs": [],
   "source": [
    "atwd_calib=Calib_Waveform[keys[0]][0]"
   ]
  },
  {
   "cell_type": "code",
   "execution_count": null,
   "metadata": {
    "collapsed": true
   },
   "outputs": [],
   "source": []
  }
 ],
 "metadata": {
  "kernelspec": {
   "display_name": "Python 2",
   "language": "python",
   "name": "python2"
  },
  "language_info": {
   "codemirror_mode": {
    "name": "ipython",
    "version": 2
   },
   "file_extension": ".py",
   "mimetype": "text/x-python",
   "name": "python",
   "nbconvert_exporter": "python",
   "pygments_lexer": "ipython2",
   "version": "2.7.10"
  }
 },
 "nbformat": 4,
 "nbformat_minor": 0
}
